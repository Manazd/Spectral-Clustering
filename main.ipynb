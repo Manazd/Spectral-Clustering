{
 "cells": [
  {
   "attachments": {},
   "cell_type": "markdown",
   "metadata": {},
   "source": [
    "# CE282: Linear Algebra"
   ]
  },
  {
   "attachments": {},
   "cell_type": "markdown",
   "metadata": {},
   "source": [
    "## Final Project"
   ]
  },
  {
   "attachments": {},
   "cell_type": "markdown",
   "metadata": {},
   "source": [
    "Full Name: Mana Abbaszadeh\n",
    "\n",
    "Student ID: 400109638\n"
   ]
  },
  {
   "attachments": {},
   "cell_type": "markdown",
   "metadata": {},
   "source": [
    "## Q1: Spectral Clustering (100 Points)"
   ]
  },
  {
   "attachments": {},
   "cell_type": "markdown",
   "metadata": {},
   "source": [
    "## Introduction\n",
    "Spectral clustering is a clustering technique that uses the spectrum of the similarity matrix to perform dimensionality reduction before clustering in fewer dimensions. It is a powerful technique that can identify clusters of arbitrary shape and is robust to noise. It is also a popular technique for image segmentation. In this notebook, we will implement spectral clustering from scratch and apply it to graphs and kNN circles."
   ]
  },
  {
   "attachments": {},
   "cell_type": "markdown",
   "metadata": {},
   "source": [
    "## Graph Implementation\n",
    "In this section, we will implement a graph class that will be used to represent the similarity matrix. The graph class will have the following attributes and methods:\n",
    "* **N**: the number of nodes in the graph\n",
    "* **nodes**: the set of nodes in the graph\n",
    "* **vertices**: the dict of edges of each node\n",
    "* **add_node**: Add a node to the graph\n",
    "* **connect**: Connect two nodes with an edge\n",
    "* **disconnect**: Disconnect two nodes"
   ]
  },
  {
   "cell_type": "code",
   "execution_count": 37,
   "metadata": {},
   "outputs": [],
   "source": [
    "class Graph:\n",
    "    def __init__(self) -> None:\n",
    "        self.N: int = 0\n",
    "        self.nodes: set[int] = set()\n",
    "        self.vertices: dict[int, set[int]] = dict()\n",
    "\n",
    "    def add_node(self):\n",
    "        self.nodes.add(self.N)\n",
    "        self.vertices[self.N] = set()\n",
    "        self.N = self.N + 1\n",
    "    \n",
    "    def connect(self, A: int, B: int):\n",
    "        assert A < self.N\n",
    "        assert A >= 0\n",
    "        assert B < self.N\n",
    "        assert B >= 0\n",
    "        assert A != B\n",
    "        self.vertices[A].add(B)\n",
    "        self.vertices[B].add(A)\n",
    "\n",
    "    def disconnect(self, A: int, B: int):\n",
    "        assert A < self.N\n",
    "        assert A >= 0\n",
    "        assert B < self.N\n",
    "        assert B >= 0\n",
    "        assert A != B\n",
    "        assert A in self.vertices[B]\n",
    "        assert B in self.vertices[A]\n",
    "        self.vertices[A].remove(B)\n",
    "        self.vertices[B].remove(A)"
   ]
  },
  {
   "attachments": {},
   "cell_type": "markdown",
   "metadata": {},
   "source": [
    "## Constructing the Similarity Matrix\n",
    "First we need to construct adjacency matrix.\n",
    "Adjacency matrix is a matrix of size $N \\times N$, where $N$ is the number of nodes in the graph. The entry $A_{ij} = 1$ if there is an edge connecting node $i$ and node $j$. If there is no edge connecting node $i$ and node $j$, then $A_{ij} = 0$."
   ]
  },
  {
   "cell_type": "code",
   "execution_count": 38,
   "metadata": {},
   "outputs": [],
   "source": [
    "import numpy as np\n",
    "\n",
    "def adjacency_matrix(graph: Graph):\n",
    "    num_of_nodes = graph.N\n",
    "    ad_matrix = np.zeros((num_of_nodes, num_of_nodes), dtype=int)\n",
    "    \n",
    "    for i in range(num_of_nodes):\n",
    "        for j in graph.vertices[i]:\n",
    "            ad_matrix[i, j], ad_matrix[j, i]= 1, 1 \n",
    "\n",
    "    return ad_matrix"
   ]
  },
  {
   "attachments": {},
   "cell_type": "markdown",
   "metadata": {},
   "source": [
    "Then we need to construct the degree matrix.\n",
    "Degree matrix is a diagonal matrix of size $N \\times N$, where $N$ is the number of nodes in the graph. The entry $D_{ii}$ is the degree of node $i$, i.e. the number of edges connected to node $i$. All other entries are 0."
   ]
  },
  {
   "cell_type": "code",
   "execution_count": 39,
   "metadata": {},
   "outputs": [],
   "source": [
    "def degree_matrix(graph: Graph):\n",
    "    num_of_nodes = graph.N\n",
    "    deg_matrix = np.zeros((num_of_nodes, num_of_nodes), dtype=int)\n",
    "\n",
    "    for node in graph.nodes:\n",
    "        deg_matrix[node - 1][node - 1] = len(graph.vertices[node])\n",
    "\n",
    "    return deg_matrix"
   ]
  },
  {
   "attachments": {},
   "cell_type": "markdown",
   "metadata": {},
   "source": [
    "Finally, we can construct the laplacian matrix.\n",
    "Laplacian matrix is a matrix of size $N \\times N$, where $N$ is the number of nodes in the graph. There are many ways to define the laplacian between two nodes. In this notebook, we will use normal Laplacian similarity matrix, which is defined as:\n",
    "\\begin{equation}\n",
    "S_{ij} = D_{ij} - A_{ij}\n",
    "\\end{equation}\n",
    "where $D_{ij}$ is the degree matrix and $A_{ij}$ is the adjacency matrix."
   ]
  },
  {
   "cell_type": "code",
   "execution_count": 40,
   "metadata": {},
   "outputs": [],
   "source": [
    "def laplacian_matrix(graph: Graph):\n",
    "    deg_matrix = degree_matrix(graph)\n",
    "    adj_matrix = adjacency_matrix(graph)\n",
    "    lap_matrix = deg_matrix - adj_matrix\n",
    "    return lap_matrix"
   ]
  },
  {
   "attachments": {},
   "cell_type": "markdown",
   "metadata": {},
   "source": [
    "## Calculating Eigenvectors and Eigenvalues\n",
    "After constructing the similarity matrix, we can calculate the eigenvectors and eigenvalues of the similarity matrix. We can then use the eigenvectors to perform dimensionality reduction. In this notebook, we will use the eigenvectors corresponding to the $k$ smallest eigenvalues, where $k$ is the number of clusters."
   ]
  },
  {
   "attachments": {},
   "cell_type": "markdown",
   "metadata": {},
   "source": [
    "* Eigenvalues of laplacian matrix are always non-negative. Laplacian matrix is a positive semi-definite matrix.\n",
    "* The first eigenvalue is always 0, and the corresponding eigenvector is the vector of all ones since the sum of each row of the laplacian matrix is 0.\n",
    "* The second smallest eigenvalue is called the Fielder value (Algebraic connectivity). It is a measure of how well connected the graph is after removing the most poorly connected node. The Fielder value is often used to approximate sparsest cut of the graph. If the graph is connected, then the Fielder value is positive. If the graph is disconnected, then the Fielder value is 0. The number of times 0 appears as an eigenvalue is equal to the number of connected components in the graph."
   ]
  },
  {
   "cell_type": "code",
   "execution_count": 41,
   "metadata": {},
   "outputs": [],
   "source": [
    "def laplacian_values(graph: Graph, K: int):\n",
    "    assert K > 0\n",
    "    assert K < graph.N\n",
    "    \n",
    "    adj_matrix = adjacency_matrix(graph)\n",
    "    degr_matrix = degree_matrix(graph)\n",
    "    laplacian_matrix = degr_matrix - adj_matrix\n",
    "\n",
    "    eigenvalues, eigenvectors = np.linalg.eig(laplacian_matrix)\n",
    "    \n",
    "\n",
    "    sorted_indices = np.argsort(eigenvalues)\n",
    "    sorted_eigenvalues = np.zeros_like(eigenvalues)\n",
    "    sorted_eigenvectors = np.zeros_like(eigenvectors)\n",
    "\n",
    "    for i in range(len(eigenvalues)):\n",
    "        sorted_eigenvalues[i] = eigenvalues[sorted_indices[i]]\n",
    "        sorted_eigenvectors[i] = eigenvectors[sorted_indices[i]]\n",
    "    \n",
    "    nonzero_indices = np.where(sorted_eigenvalues > 0)[0]\n",
    "    k_smallest_eigenvalues = sorted_eigenvalues[nonzero_indices][:K]\n",
    "    k_smallest_eigenvectors = []\n",
    "    for i in range(len(nonzero_indices)):\n",
    "        k_smallest_eigenvectors.append(sorted_eigenvectors[i])\n",
    "    \n",
    "    return k_smallest_eigenvalues, k_smallest_eigenvectors\n",
    "    "
   ]
  },
  {
   "attachments": {},
   "cell_type": "markdown",
   "metadata": {},
   "source": [
    "## Plotting Eigenvalues"
   ]
  },
  {
   "attachments": {},
   "cell_type": "markdown",
   "metadata": {},
   "source": [
    "After becoming familiar with laplacian matrix, we can plot the eigenvalues of the laplacian matrix. The eigenvalues are plotted in ascending order. The x-axis is the index of the eigenvalue, and the y-axis is the value of the eigenvalue. The eigenvalues are plotted as a scatter plot."
   ]
  },
  {
   "cell_type": "code",
   "execution_count": 42,
   "metadata": {},
   "outputs": [
    {
     "data": {
      "image/png": "[encoded data removed]",
      "text/plain": [
       "<Figure size 432x288 with 1 Axes>"
      ]
     },
     "metadata": {
      "needs_background": "light"
     },
     "output_type": "display_data"
    }
   ],
   "source": [
    "import matplotlib.pyplot as plt\n",
    "\n",
    "g = Graph()\n",
    "g.add_node()\n",
    "g.add_node()\n",
    "g.add_node()\n",
    "g.add_node()\n",
    "\n",
    "laplacian_res = laplacian_matrix(g)\n",
    "eigenvalues, eigenvectors = np.linalg.eigh(laplacian_res)\n",
    "\n",
    "plt.scatter(range(len(eigenvalues)), eigenvalues)\n",
    "plt.xlabel('Index')\n",
    "plt.ylabel('Eigenvalue')\n",
    "plt.title('Eigenvalues of Laplacian Matrix')\n",
    "plt.show()"
   ]
  },
  {
   "cell_type": "code",
   "execution_count": 43,
   "metadata": {},
   "outputs": [
    {
     "data": {
      "image/png": "[encoded data removed]",
      "text/plain": [
       "<Figure size 432x288 with 1 Axes>"
      ]
     },
     "metadata": {
      "needs_background": "light"
     },
     "output_type": "display_data"
    }
   ],
   "source": [
    "g.connect(0, 1)\n",
    "laplacian_matrix_res = laplacian_matrix(g)\n",
    "eigenvalues, _ = np.linalg.eigh(laplacian_matrix_res) \n",
    "\n",
    "plt.scatter(range(len(eigenvalues)), eigenvalues)\n",
    "plt.xlabel('Index')\n",
    "plt.ylabel('Eigenvalue')\n",
    "plt.title('Eigenvalues of Laplacian Matrix (0, 1)')\n",
    "plt.show()"
   ]
  },
  {
   "cell_type": "code",
   "execution_count": 44,
   "metadata": {},
   "outputs": [
    {
     "data": {
      "image/png": "[encoded data removed]",
      "text/plain": [
       "<Figure size 432x288 with 1 Axes>"
      ]
     },
     "metadata": {
      "needs_background": "light"
     },
     "output_type": "display_data"
    }
   ],
   "source": [
    "g.connect(1, 2)\n",
    "laplacian_matrix_res = laplacian_matrix(g)\n",
    "eigenvalues, _ = np.linalg.eigh(laplacian_matrix_res) \n",
    "\n",
    "plt.scatter(range(len(eigenvalues)), eigenvalues)\n",
    "plt.xlabel('Index')\n",
    "plt.ylabel('Eigenvalue')\n",
    "plt.title('Eigenvalues of Laplacian Matrix (1, 2)')\n",
    "plt.show()"
   ]
  },
  {
   "cell_type": "code",
   "execution_count": 45,
   "metadata": {},
   "outputs": [
    {
     "data": {
      "image/png": "[encoded data removed]",
      "text/plain": [
       "<Figure size 432x288 with 1 Axes>"
      ]
     },
     "metadata": {
      "needs_background": "light"
     },
     "output_type": "display_data"
    }
   ],
   "source": [
    "g.connect(2, 3)\n",
    "laplacian_matrix_res = laplacian_matrix(g)\n",
    "eigenvalues, _ = np.linalg.eigh(laplacian_matrix_res) \n",
    "\n",
    "plt.scatter(range(len(eigenvalues)), eigenvalues)\n",
    "plt.xlabel('Index')\n",
    "plt.ylabel('Eigenvalue')\n",
    "plt.title('Eigenvalues of Laplacian Matrix (2, 3)')\n",
    "plt.show()"
   ]
  },
  {
   "cell_type": "code",
   "execution_count": 46,
   "metadata": {},
   "outputs": [
    {
     "data": {
      "image/png": "[encoded data removed]",
      "text/plain": [
       "<Figure size 432x288 with 1 Axes>"
      ]
     },
     "metadata": {
      "needs_background": "light"
     },
     "output_type": "display_data"
    }
   ],
   "source": [
    "g.connect(3, 0)\n",
    "laplacian_matrix_res = laplacian_matrix(g)\n",
    "eigenvalues, _ = np.linalg.eigh(laplacian_matrix_res) \n",
    "\n",
    "plt.scatter(range(len(eigenvalues)), eigenvalues)\n",
    "plt.xlabel('Index')\n",
    "plt.ylabel('Eigenvalue')\n",
    "plt.title('Eigenvalues of Laplacian Matrix (3, 0)')\n",
    "plt.show()"
   ]
  },
  {
   "cell_type": "code",
   "execution_count": 47,
   "metadata": {},
   "outputs": [
    {
     "data": {
      "image/png": "[encoded data removed]",
      "text/plain": [
       "<Figure size 432x288 with 1 Axes>"
      ]
     },
     "metadata": {
      "needs_background": "light"
     },
     "output_type": "display_data"
    }
   ],
   "source": [
    "g.connect(0, 2)\n",
    "g.connect(1, 3)\n",
    "laplacian_matrix_res = laplacian_matrix(g)\n",
    "eigenvalues, _ = np.linalg.eigh(laplacian_matrix_res) \n",
    "\n",
    "plt.scatter(range(len(eigenvalues)), eigenvalues)\n",
    "plt.xlabel('Index')\n",
    "plt.ylabel('Eigenvalue')\n",
    "plt.title('Eigenvalues of Laplacian Matrix (2, 3)')\n",
    "plt.show()"
   ]
  },
  {
   "attachments": {},
   "cell_type": "markdown",
   "metadata": {},
   "source": [
    "**Explain the meaning of the eigenvalues and describe the change in the eigenvalues as the edges were added to the graph here**:\n",
    "\n",
    "با اضافه شدن یال ها به گراف، مقادیر ویژه با توجه به یال های اضافه شده و تاثیر آنها در گراف، تغییر می کنند. به عبارتی دیگر، بزرگی مقادیر ویژه با اتصال بیشتر یا جدا شدن گراف، می تواند تغییر کند. به عنوان نمونه می توان گفت که اگر بین ند هایی که به هم متصل هستند، یک یال اضافه کنیم، تغییر چندانی در گراف صورت نمی گیرد. به طور کلی، مقادیر ویژه در گراف، نشان دهنده یکسری از ویژگی های آن گراف هستند."
   ]
  },
  {
   "attachments": {},
   "cell_type": "markdown",
   "metadata": {},
   "source": [
    "## Clustering Eigenvectors"
   ]
  },
  {
   "attachments": {},
   "cell_type": "markdown",
   "metadata": {},
   "source": [
    "Next we use KMeans to cluster the data points in the lower dimensional space. We can then assign each data point to the cluster with the nearest centroid. Finally, we can plot the data points and color them according to their cluster assignments. We can also plot the eigenvectors corresponding to the $k$ smallest eigenvalues. The eigenvectors can be viewed as the coordinates of the data points in the lower dimensional space. We can see that the eigenvectors corresponding to the $k$ smallest eigenvalues can separate the data points into $k$ clusters."
   ]
  },
  {
   "cell_type": "code",
   "execution_count": 48,
   "metadata": {},
   "outputs": [],
   "source": [
    "from sklearn.cluster import KMeans\n",
    "\n",
    "def cluster(graph: Graph, N: int):\n",
    "    assert N <= graph.N\n",
    "    clusterer = KMeans(N)\n",
    "    _, vecs = laplacian_values(graph, N)\n",
    "    clusterer.fit(vecs)\n",
    "    graph.clustered_nodes = dict([i, set()] for i in range(N))\n",
    "    for N, label in enumerate(clusterer.labels_):\n",
    "        graph.clustered_nodes[label].add(N)"
   ]
  },
  {
   "cell_type": "code",
   "execution_count": 49,
   "metadata": {},
   "outputs": [],
   "source": [
    "import matplotlib.colors as mcolors\n",
    "# import graphviz\n",
    "import os \n",
    "os.environ[\"PATH\"] += os.pathsep + 'C:/Program Files/Graphviz/bin/'\n",
    "\n",
    "def plot(graph: Graph):\n",
    "    g = os.Graph()\n",
    "    for cluster, color in zip(graph.clustered_nodes.keys(), mcolors.CSS4_COLORS.values()):\n",
    "        with g.subgraph(name=f'C{cluster}') as gcl:\n",
    "            for node in graph.clustered_nodes[cluster]:\n",
    "                gcl.node(f'N{node}', style='filled', fillcolor=color)\n",
    "    for A in graph.nodes:\n",
    "        for B in graph.vertices[A]:\n",
    "            if B > A:\n",
    "                g.edge(f'N{A}', f'N{B}')\n",
    "    g.view()"
   ]
  },
  {
   "cell_type": "code",
   "execution_count": 50,
   "metadata": {},
   "outputs": [
    {
     "ename": "AttributeError",
     "evalue": "module 'os' has no attribute 'Graph'",
     "output_type": "error",
     "traceback": [
      "\u001b[1;31m---------------------------------------------------------------------------\u001b[0m",
      "\u001b[1;31mAttributeError\u001b[0m                            Traceback (most recent call last)",
      "\u001b[1;32me:\\Uni\\LAproject\\Q1\\main.ipynb Cell 30\u001b[0m in \u001b[0;36m<cell line: 26>\u001b[1;34m()\u001b[0m\n\u001b[0;32m     <a href='vscode-notebook-cell:/e%3A/Uni/LAproject/Q1/main.ipynb#X41sZmlsZQ%3D%3D?line=23'>24</a>\u001b[0m g\u001b[39m.\u001b[39mconnect(\u001b[39m0\u001b[39m, \u001b[39m5\u001b[39m)\n\u001b[0;32m     <a href='vscode-notebook-cell:/e%3A/Uni/LAproject/Q1/main.ipynb#X41sZmlsZQ%3D%3D?line=24'>25</a>\u001b[0m cluster(g, \u001b[39m3\u001b[39m)\n\u001b[1;32m---> <a href='vscode-notebook-cell:/e%3A/Uni/LAproject/Q1/main.ipynb#X41sZmlsZQ%3D%3D?line=25'>26</a>\u001b[0m plot(g)\n",
      "\u001b[1;32me:\\Uni\\LAproject\\Q1\\main.ipynb Cell 30\u001b[0m in \u001b[0;36mplot\u001b[1;34m(graph)\u001b[0m\n\u001b[0;32m      <a href='vscode-notebook-cell:/e%3A/Uni/LAproject/Q1/main.ipynb#X41sZmlsZQ%3D%3D?line=5'>6</a>\u001b[0m \u001b[39mdef\u001b[39;00m \u001b[39mplot\u001b[39m(graph: Graph):\n\u001b[1;32m----> <a href='vscode-notebook-cell:/e%3A/Uni/LAproject/Q1/main.ipynb#X41sZmlsZQ%3D%3D?line=6'>7</a>\u001b[0m     g \u001b[39m=\u001b[39m os\u001b[39m.\u001b[39;49mGraph()\n\u001b[0;32m      <a href='vscode-notebook-cell:/e%3A/Uni/LAproject/Q1/main.ipynb#X41sZmlsZQ%3D%3D?line=7'>8</a>\u001b[0m     \u001b[39mfor\u001b[39;00m cluster, color \u001b[39min\u001b[39;00m \u001b[39mzip\u001b[39m(graph\u001b[39m.\u001b[39mclustered_nodes\u001b[39m.\u001b[39mkeys(), mcolors\u001b[39m.\u001b[39mCSS4_COLORS\u001b[39m.\u001b[39mvalues()):\n\u001b[0;32m      <a href='vscode-notebook-cell:/e%3A/Uni/LAproject/Q1/main.ipynb#X41sZmlsZQ%3D%3D?line=8'>9</a>\u001b[0m         \u001b[39mwith\u001b[39;00m g\u001b[39m.\u001b[39msubgraph(name\u001b[39m=\u001b[39m\u001b[39mf\u001b[39m\u001b[39m'\u001b[39m\u001b[39mC\u001b[39m\u001b[39m{\u001b[39;00mcluster\u001b[39m}\u001b[39;00m\u001b[39m'\u001b[39m) \u001b[39mas\u001b[39;00m gcl:\n",
      "\u001b[1;31mAttributeError\u001b[0m: module 'os' has no attribute 'Graph'"
     ]
    }
   ],
   "source": [
    "g = Graph()\n",
    "g.add_node()\n",
    "g.add_node()\n",
    "g.connect(0, 1)\n",
    "g.add_node()\n",
    "g.connect(0, 2)\n",
    "g.connect(1, 2)\n",
    "g.add_node()\n",
    "g.add_node()\n",
    "g.connect(3, 4)\n",
    "g.add_node()\n",
    "g.connect(3, 5)\n",
    "g.connect(4, 5)\n",
    "g.add_node()\n",
    "g.connect(5, 6)\n",
    "g.add_node()\n",
    "g.connect(5, 7)\n",
    "g.connect(6, 7)\n",
    "g.add_node()\n",
    "g.connect(0, 8)\n",
    "g.add_node()\n",
    "g.connect(0, 9)\n",
    "g.connect(8, 9)\n",
    "g.connect(0, 5)\n",
    "cluster(g, 3)\n",
    "plot(g)"
   ]
  },
  {
   "attachments": {},
   "cell_type": "markdown",
   "metadata": {},
   "source": [
    "## Cluster Circles"
   ]
  },
  {
   "attachments": {},
   "cell_type": "markdown",
   "metadata": {},
   "source": [
    "First we make the circles. We can use the make_circles function in sklearn.datasets to make two circles. We can then plot the circles. We can see that the circles are not linearly separable."
   ]
  },
  {
   "cell_type": "code",
   "execution_count": null,
   "metadata": {},
   "outputs": [
    {
     "data": {
      "image/png": "[encoded data removed]",
      "text/plain": [
       "<Figure size 432x288 with 1 Axes>"
      ]
     },
     "metadata": {
      "needs_background": "light"
     },
     "output_type": "display_data"
    }
   ],
   "source": [
    "from sklearn.datasets import make_circles\n",
    "\n",
    "X, labels = make_circles(n_samples=2000, noise=.1, factor=.1)\n",
    "plt.plot(X[:,0], X[:,1], 'o')\n",
    "plt.show()"
   ]
  },
  {
   "attachments": {},
   "cell_type": "markdown",
   "metadata": {},
   "source": [
    "Now we construct adjacency matrix using kNN. We use kneighbors_graph function in sklearn.neighbors to construct the adjacency matrix. We can then construct the degree matrix and the laplacian matrix. We can then calculate the eigenvectors and eigenvalues of the laplacian matrix."
   ]
  },
  {
   "cell_type": "code",
   "execution_count": null,
   "metadata": {},
   "outputs": [],
   "source": [
    "from sklearn.neighbors import kneighbors_graph\n",
    "\n",
    "adjacency_matrix = kneighbors_graph(X, n_neighbors=5).toarray()\n",
    "# TODO: construct laplacian matrix\n",
    "# TODO: calculate eigenvalues and eigenvectors of laplacian matrix and sort them in ascending order of eigenvalues\n",
    "vals, vecs = None, None"
   ]
  },
  {
   "attachments": {},
   "cell_type": "markdown",
   "metadata": {},
   "source": [
    "Now let's cluster them using the Fielder value. We can see that the circles are separated into two clusters."
   ]
  },
  {
   "cell_type": "code",
   "execution_count": null,
   "metadata": {},
   "outputs": [
    {
     "ename": "TypeError",
     "evalue": "'NoneType' object is not subscriptable",
     "output_type": "error",
     "traceback": [
      "\u001b[1;31m---------------------------------------------------------------------------\u001b[0m",
      "\u001b[1;31mTypeError\u001b[0m                                 Traceback (most recent call last)",
      "\u001b[1;32me:\\Uni\\LAproject\\Q1\\main.ipynb Cell 37\u001b[0m in \u001b[0;36m<cell line: 1>\u001b[1;34m()\u001b[0m\n\u001b[1;32m----> <a href='vscode-notebook-cell:/e%3A/Uni/LAproject/Q1/main.ipynb#X51sZmlsZQ%3D%3D?line=0'>1</a>\u001b[0m clusters \u001b[39m=\u001b[39m vecs[:,\u001b[39m1\u001b[39;49m] \u001b[39m>\u001b[39m \u001b[39m0\u001b[39m\n\u001b[0;32m      <a href='vscode-notebook-cell:/e%3A/Uni/LAproject/Q1/main.ipynb#X51sZmlsZQ%3D%3D?line=1'>2</a>\u001b[0m plt\u001b[39m.\u001b[39mplot(X[clusters,\u001b[39m0\u001b[39m], X[clusters,\u001b[39m1\u001b[39m], \u001b[39m'\u001b[39m\u001b[39mo\u001b[39m\u001b[39m'\u001b[39m)\n\u001b[0;32m      <a href='vscode-notebook-cell:/e%3A/Uni/LAproject/Q1/main.ipynb#X51sZmlsZQ%3D%3D?line=2'>3</a>\u001b[0m plt\u001b[39m.\u001b[39mplot(X[\u001b[39m~\u001b[39mclusters,\u001b[39m0\u001b[39m], X[\u001b[39m~\u001b[39mclusters,\u001b[39m1\u001b[39m], \u001b[39m'\u001b[39m\u001b[39mo\u001b[39m\u001b[39m'\u001b[39m)\n",
      "\u001b[1;31mTypeError\u001b[0m: 'NoneType' object is not subscriptable"
     ]
    }
   ],
   "source": [
    "clusters = vecs[:,1] > 0\n",
    "plt.plot(X[clusters,0], X[clusters,1], 'o')\n",
    "plt.plot(X[~clusters,0], X[~clusters,1], 'o')\n",
    "plt.show()"
   ]
  }
 ],
 "metadata": {
  "kernelspec": {
   "display_name": "Python 3.9.12 ('base')",
   "language": "python",
   "name": "python3"
  },
  "language_info": {
   "codemirror_mode": {
    "name": "ipython",
    "version": 3
   },
   "file_extension": ".py",
   "mimetype": "text/x-python",
   "name": "python",
   "nbconvert_exporter": "python",
   "pygments_lexer": "ipython3",
   "version": "3.9.12"
  },
  "orig_nbformat": 4,
  "vscode": {
   "interpreter": {
    "hash": "ad2bdc8ecc057115af97d19610ffacc2b4e99fae6737bb82f5d7fb13d2f2c186"
   }
  }
 },
 "nbformat": 4,
 "nbformat_minor": 2
}
